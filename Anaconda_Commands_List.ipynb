{
 "cells": [
  {
   "cell_type": "raw",
   "id": "d9c09980",
   "metadata": {},
   "source": [
    "1.pip install package/module.\n",
    "2.!pip install package/module.\n",
    "3.pip3 install package/module. # This command is for Mac,uboonto so it will not work in windows so giving error"
   ]
  },
  {
   "cell_type": "raw",
   "id": "4839de50",
   "metadata": {},
   "source": [
    "Base(root) Environment >> whatever file we are running and whatever file we are opening or performing any action like importing\n",
    "library,running codes,doing any work by default it will be in bas(root) environment."
   ]
  },
  {
   "cell_type": "code",
   "execution_count": 1,
   "id": "c28f1ea9",
   "metadata": {},
   "outputs": [
    {
     "name": "stdout",
     "output_type": "stream",
     "text": [
      "Requirement already satisfied: xgboost in c:\\users\\admin\\akshay\\lib\\site-packages (1.7.1)\n",
      "Requirement already satisfied: numpy in c:\\users\\admin\\akshay\\lib\\site-packages (from xgboost) (1.21.5)\n",
      "Requirement already satisfied: scipy in c:\\users\\admin\\akshay\\lib\\site-packages (from xgboost) (1.7.3)\n",
      "Note: you may need to restart the kernel to use updated packages.\n"
     ]
    }
   ],
   "source": [
    "pip install xgboost"
   ]
  },
  {
   "cell_type": "code",
   "execution_count": 2,
   "id": "0128ee87",
   "metadata": {},
   "outputs": [
    {
     "name": "stdout",
     "output_type": "stream",
     "text": [
      "Requirement already satisfied: xgboost in c:\\users\\admin\\akshay\\lib\\site-packages (1.7.1)\n",
      "Requirement already satisfied: scipy in c:\\users\\admin\\akshay\\lib\\site-packages (from xgboost) (1.7.3)\n",
      "Requirement already satisfied: numpy in c:\\users\\admin\\akshay\\lib\\site-packages (from xgboost) (1.21.5)\n"
     ]
    }
   ],
   "source": [
    "!pip install xgboost"
   ]
  },
  {
   "cell_type": "code",
   "execution_count": null,
   "id": "6ad6dd8b",
   "metadata": {},
   "outputs": [],
   "source": [
    "import xgboost"
   ]
  },
  {
   "cell_type": "code",
   "execution_count": 3,
   "id": "99111a6a",
   "metadata": {
    "scrolled": false
   },
   "outputs": [
    {
     "ename": "SyntaxError",
     "evalue": "invalid syntax (1885286848.py, line 1)",
     "output_type": "error",
     "traceback": [
      "\u001b[1;36m  Input \u001b[1;32mIn [3]\u001b[1;36m\u001b[0m\n\u001b[1;33m    pip3 install xgboost # This command is for Mac,uboonto so it will not work in windows so giving error\u001b[0m\n\u001b[1;37m         ^\u001b[0m\n\u001b[1;31mSyntaxError\u001b[0m\u001b[1;31m:\u001b[0m invalid syntax\n"
     ]
    }
   ],
   "source": [
    "pip3 install xgboost # This command is for Mac,uboonto so it will not work in windows so giving error"
   ]
  },
  {
   "cell_type": "code",
   "execution_count": null,
   "id": "02d374b0",
   "metadata": {},
   "outputs": [],
   "source": [
    "2017 >> Existing Project\n",
    "Pandas 1.0.1\n",
    "import keras\n",
    "\n",
    "\n",
    "2022 >> Task\n",
    "Pandas 1.4.4 \n",
    "from tensorflow import keras\n",
    "import tensorflow.keras"
   ]
  },
  {
   "cell_type": "markdown",
   "id": "2deaf510",
   "metadata": {},
   "source": [
    "## All This Commands we can type at Jupyter Notebook and as well as Conda CMD"
   ]
  },
  {
   "cell_type": "markdown",
   "id": "c464e6cd",
   "metadata": {},
   "source": [
    "# update conda by running    "
   ]
  },
  {
   "cell_type": "code",
   "execution_count": null,
   "id": "3c5ac917",
   "metadata": {},
   "outputs": [],
   "source": [
    "conda update -n base -c defaults conda"
   ]
  },
  {
   "cell_type": "markdown",
   "id": "5fb6dfc1",
   "metadata": {},
   "source": [
    "# Anaconda Environemnt"
   ]
  },
  {
   "cell_type": "code",
   "execution_count": null,
   "id": "d749edab",
   "metadata": {},
   "outputs": [],
   "source": [
    "(Base) or root >> default env for your python"
   ]
  },
  {
   "cell_type": "markdown",
   "id": "a14638ac",
   "metadata": {},
   "source": [
    "# to go to any specific directory"
   ]
  },
  {
   "cell_type": "code",
   "execution_count": null,
   "id": "d62486b2",
   "metadata": {},
   "outputs": [],
   "source": [
    "D: >> it will go in your D Location where akshay in D\n",
    "cd D:/Akshay/akshay data science videos\n",
    "    \n",
    "cd folder_path"
   ]
  },
  {
   "cell_type": "markdown",
   "id": "188227a1",
   "metadata": {},
   "source": [
    "# check existing environements"
   ]
  },
  {
   "cell_type": "code",
   "execution_count": null,
   "id": "33bfaabc",
   "metadata": {},
   "outputs": [],
   "source": [
    "conda env list\n",
    "conda info --envs"
   ]
  },
  {
   "cell_type": "markdown",
   "id": "cc84983e",
   "metadata": {},
   "source": [
    "# check all packages in any env with its Versions"
   ]
  },
  {
   "cell_type": "code",
   "execution_count": null,
   "id": "3537acdb",
   "metadata": {},
   "outputs": [],
   "source": [
    "conda list"
   ]
  },
  {
   "cell_type": "markdown",
   "id": "72e60e9c",
   "metadata": {},
   "source": [
    "# create new conda environment"
   ]
  },
  {
   "cell_type": "code",
   "execution_count": null,
   "id": "347f030b",
   "metadata": {},
   "outputs": [],
   "source": [
    "conda create -n env_name\n",
    "\n",
    "conda create -n Akshay"
   ]
  },
  {
   "cell_type": "markdown",
   "id": "d5e124d3",
   "metadata": {},
   "source": [
    "# activate any env And deactivate any env"
   ]
  },
  {
   "cell_type": "code",
   "execution_count": null,
   "id": "afedb391",
   "metadata": {},
   "outputs": [],
   "source": [
    "conda activate env_name\n",
    "\n",
    "conda activate Akshay\n",
    "\n",
    "conda deactivate"
   ]
  },
  {
   "cell_type": "markdown",
   "id": "d5ec6ebd",
   "metadata": {},
   "source": [
    "# create an env with sepcific python version"
   ]
  },
  {
   "cell_type": "code",
   "execution_count": null,
   "id": "f58f8b9e",
   "metadata": {},
   "outputs": [],
   "source": [
    "conda create -n env_name python==3.8.1\n",
    "conda create -n env_name python==3.8     (last version of python 3.8 will be installed (3.8.13))\n",
    "conda create -n env_name python==3.8.*   (last version of 3.8)\n",
    "conda create -n env_name python          (latest version of python) "
   ]
  },
  {
   "cell_type": "markdown",
   "id": "92f2b56b",
   "metadata": {},
   "source": [
    "# install any package in an env"
   ]
  },
  {
   "cell_type": "code",
   "execution_count": null,
   "id": "4e9f832f",
   "metadata": {},
   "outputs": [],
   "source": [
    "conda install pandas               (will install the latest version of pandas)\n",
    "conda install pandas=1.0.1        (will install pandas with specific version)"
   ]
  },
  {
   "cell_type": "markdown",
   "id": "f9fceb7a",
   "metadata": {},
   "source": [
    "# update python or any Library"
   ]
  },
  {
   "cell_type": "code",
   "execution_count": null,
   "id": "8ba0a7ec",
   "metadata": {},
   "outputs": [],
   "source": [
    "conda update python\n",
    "conda update python==3.8.10\n",
    "conda update pandas\n",
    "conda update pandas==1.2.1"
   ]
  },
  {
   "cell_type": "markdown",
   "id": "b9be2fa9",
   "metadata": {},
   "source": [
    "# deactivate any env"
   ]
  },
  {
   "cell_type": "code",
   "execution_count": null,
   "id": "70ff5a77",
   "metadata": {},
   "outputs": [],
   "source": [
    "conda deactivate\n",
    "\n",
    "will go back to base env"
   ]
  },
  {
   "cell_type": "markdown",
   "id": "ef1c28a6",
   "metadata": {},
   "source": [
    "# delete an env"
   ]
  },
  {
   "cell_type": "code",
   "execution_count": null,
   "id": "24ab6fb4",
   "metadata": {},
   "outputs": [],
   "source": [
    "conda env remove -n env_name\n",
    " "
   ]
  },
  {
   "cell_type": "markdown",
   "id": "f1ffc73b",
   "metadata": {},
   "source": [
    "# to come out of cmd process"
   ]
  },
  {
   "cell_type": "code",
   "execution_count": null,
   "id": "fdd5e8cc",
   "metadata": {},
   "outputs": [],
   "source": [
    "exit()"
   ]
  },
  {
   "cell_type": "markdown",
   "id": "ebd91c11",
   "metadata": {},
   "source": [
    "# to clear cmd screen"
   ]
  },
  {
   "cell_type": "code",
   "execution_count": null,
   "id": "874f18a2",
   "metadata": {},
   "outputs": [],
   "source": [
    "cls"
   ]
  },
  {
   "cell_type": "markdown",
   "id": "d18a4d4a",
   "metadata": {},
   "source": [
    "# creating requirements.txt file from any env"
   ]
  },
  {
   "cell_type": "code",
   "execution_count": null,
   "id": "03ca7443",
   "metadata": {},
   "outputs": [],
   "source": [
    "conda list -e > requirements.txt"
   ]
  },
  {
   "cell_type": "markdown",
   "id": "863db5b4",
   "metadata": {},
   "source": [
    "# Create conda env_file (yml) consisiting of packages"
   ]
  },
  {
   "cell_type": "code",
   "execution_count": null,
   "id": "47d17928",
   "metadata": {},
   "outputs": [],
   "source": [
    "conda env export > filename.yml\n",
    "\n",
    "conda env export > dependencies.yml"
   ]
  },
  {
   "cell_type": "markdown",
   "id": "16d6087b",
   "metadata": {},
   "source": [
    "# creating env from text file"
   ]
  },
  {
   "cell_type": "code",
   "execution_count": null,
   "id": "b05ab8b5",
   "metadata": {},
   "outputs": [],
   "source": [
    "conda create --name <env> --file <this file>"
   ]
  },
  {
   "cell_type": "markdown",
   "id": "14ff7a83",
   "metadata": {},
   "source": [
    "# creating env from yml file"
   ]
  },
  {
   "cell_type": "code",
   "execution_count": null,
   "id": "e36a409a",
   "metadata": {},
   "outputs": [],
   "source": [
    "conda env create --file filename.yml\n",
    "\n",
    "conda env create --file dependencies.yml"
   ]
  },
  {
   "cell_type": "markdown",
   "id": "1ed01ddd",
   "metadata": {},
   "source": [
    "# cmd to access envs in jupyter"
   ]
  },
  {
   "cell_type": "code",
   "execution_count": null,
   "id": "f3de41e8",
   "metadata": {},
   "outputs": [],
   "source": [
    "conda install nb_conda_kernels"
   ]
  },
  {
   "cell_type": "markdown",
   "id": "37c7d86f",
   "metadata": {},
   "source": [
    "# How to check current library version and available or not that library"
   ]
  },
  {
   "cell_type": "code",
   "execution_count": 1,
   "id": "d42e47f6",
   "metadata": {
    "scrolled": true
   },
   "outputs": [
    {
     "name": "stdout",
     "output_type": "stream",
     "text": [
      "Name: pandas\n",
      "Version: 1.4.2\n",
      "Summary: Powerful data structures for data analysis, time series, and statistics\n",
      "Home-page: https://pandas.pydata.org\n",
      "Author: The Pandas Development Team\n",
      "Author-email: pandas-dev@python.org\n",
      "License: BSD-3-Clause\n",
      "Location: c:\\users\\admin\\akshay\\lib\\site-packages\n",
      "Requires: python-dateutil, numpy, pytz\n",
      "Required-by: xarray, statsmodels, skfeature-chappers, seaborn, hvplot, holoviews, datashader\n",
      "---\n",
      "Name: pandas\n",
      "Version: 1.4.2\n",
      "Summary: Powerful data structures for data analysis, time series, and statistics\n",
      "Home-page: https://pandas.pydata.org\n",
      "Author: The Pandas Development Team\n",
      "Author-email: pandas-dev@python.org\n",
      "License: BSD-3-Clause\n",
      "Location: c:\\users\\admin\\akshay\\lib\\site-packages\n",
      "Requires: python-dateutil, numpy, pytz\n",
      "Required-by: xarray, statsmodels, skfeature-chappers, seaborn, hvplot, holoviews, datashader\n",
      "Note: you may need to restart the kernel to use updated packages.\n"
     ]
    },
    {
     "name": "stderr",
     "output_type": "stream",
     "text": [
      "WARNING: Package(s) not found: #, check, the, to, version\n"
     ]
    }
   ],
   "source": [
    "pip show pandas # to check the pandas version"
   ]
  },
  {
   "cell_type": "markdown",
   "id": "284f8f86",
   "metadata": {},
   "source": [
    "# Important Note"
   ]
  },
  {
   "cell_type": "code",
   "execution_count": null,
   "id": "c6b6c11d",
   "metadata": {},
   "outputs": [],
   "source": [
    "Above all commands which we had run on conda promt those commands also we can on jupyter notebook and output will same"
   ]
  },
  {
   "cell_type": "markdown",
   "id": "40bae22c",
   "metadata": {},
   "source": [
    "# Creating Virtual Environment using command prompt (cmd)"
   ]
  },
  {
   "cell_type": "raw",
   "id": "f7a02a5a",
   "metadata": {},
   "source": [
    "1.\tOpen command prompt. Run pip install virtualenv command to download virtual environment module.>> pip install virtualenv\n",
    "\n",
    "2.\tChange the directory in command prompt where you want to create virtual environment.\n",
    "3.\tCreate virtual environment by running virtualenv VirtualEnvironmentName command. Virtualenvironmentname is the name you wants to give your environment. >> virtualenv VirtualEnvironmentName\n",
    "\n",
    "4.\tRun VirtualEnvironmentName \\Scripts\\activate command to activate the virtual environment. >> VirtualEnvironmentName \\Scripts\\activate\n",
    "\n",
    "5.\tOnce activated then you can use pip install Module Name command to install different modules in the environment. >> pip install ModuleName\n",
    "\n",
    "6.\tRun command pip freeze > requirement.txt to download requirement files which contains different modules installed in virtual environment along with its versions. >> pip freeze > requirement.txt\n",
    "\n",
    "7.\tRun command deactivate to deactivate environment. >>  deactivate\n",
    "8.  check versions >> python --version \n",
    "                   or py --version\n",
    "9.  check pip version >> py -m pip --version \n",
    "10. Update Pip Version >> py -m pip install --upgrade pip\n",
    "11. Update pandas Version >> py -m pip install pandas"
   ]
  },
  {
   "cell_type": "markdown",
   "id": "95cade8c",
   "metadata": {},
   "source": [
    "# Virtual Environment for MAC"
   ]
  },
  {
   "cell_type": "code",
   "execution_count": null,
   "id": "23ae43a3",
   "metadata": {},
   "outputs": [],
   "source": [
    "pip3 list\n",
    "a. Shows list of all packages with versions available\n",
    "1.\n",
    "cd path\n",
    "a. Change the directory\n",
    "2.\n",
    "python3 -m venv test_cmd\n",
    "a. To create an env\n",
    "3.\n",
    "ls\n",
    "a. To show all files in that folder\n",
    "4.\n",
    "source test_cmd/bin/activate\n",
    "a. To activate that env (here test_cmd is env)\n",
    "5.\n",
    "Which python\n",
    "a. To see which env is active\n",
    "6.\n",
    "pip list\n",
    "a. To see list of all packages in that env with their versions\n",
    "7.\n",
    "8. pip install requests\n",
    "pip install pytz\n",
    "a. Step 8 & 9 are for downloading other packages\n",
    "9.\n",
    "pip freeze\n",
    "To see packages & their version before creating requirements\n",
    "file.\n",
    "a.\n",
    "10.\n",
    "pip freeze > requirements.txt\n",
    "a. To create requirements.txt file\n",
    "11.\n",
    "cat requirements.txt\n",
    "a. To see this file & libraries in it.\n",
    "12.\n",
    "Deactivate\n",
    "a. To come out of that env\n",
    "13.\n",
    "rm -rf test_cmd\n",
    "a. To delete that env\n",
    "14.\n",
    "mkdir my_project\n",
    "a. Create a folder with my_project name\n",
    "15.\n",
    "python3 -m venv my_project/venv\n",
    "a. Create env in that fiolder\n",
    "16.\n",
    "source my_project/venv/bin/activate\n",
    "a. Activate that folder\n",
    "17.\n",
    "pip install -r requirements.txt\n",
    "a. Install requirements file packages in any env\n",
    "18.\n",
    "clear\n",
    "a. To clear terminal/ Alternative cmd+k\n",
    "19. clear\n",
    "a. To clear terminal/ Alternative cmd+k\n",
    "\n"
   ]
  }
 ],
 "metadata": {
  "kernelspec": {
   "display_name": "Python 3 (ipykernel)",
   "language": "python",
   "name": "python3"
  },
  "language_info": {
   "codemirror_mode": {
    "name": "ipython",
    "version": 3
   },
   "file_extension": ".py",
   "mimetype": "text/x-python",
   "name": "python",
   "nbconvert_exporter": "python",
   "pygments_lexer": "ipython3",
   "version": "3.9.12"
  },
  "toc": {
   "base_numbering": 1,
   "nav_menu": {},
   "number_sections": true,
   "sideBar": true,
   "skip_h1_title": false,
   "title_cell": "Table of Contents",
   "title_sidebar": "Contents",
   "toc_cell": false,
   "toc_position": {},
   "toc_section_display": true,
   "toc_window_display": false
  },
  "varInspector": {
   "cols": {
    "lenName": 16,
    "lenType": 16,
    "lenVar": 40
   },
   "kernels_config": {
    "python": {
     "delete_cmd_postfix": "",
     "delete_cmd_prefix": "del ",
     "library": "var_list.py",
     "varRefreshCmd": "print(var_dic_list())"
    },
    "r": {
     "delete_cmd_postfix": ") ",
     "delete_cmd_prefix": "rm(",
     "library": "var_list.r",
     "varRefreshCmd": "cat(var_dic_list()) "
    }
   },
   "types_to_exclude": [
    "module",
    "function",
    "builtin_function_or_method",
    "instance",
    "_Feature"
   ],
   "window_display": false
  },
  "vscode": {
   "interpreter": {
    "hash": "d39c6d12e7151afc5787fc4b8182028fb260751b6ffc40995b02a54ee0c0e026"
   }
  }
 },
 "nbformat": 4,
 "nbformat_minor": 5
}
